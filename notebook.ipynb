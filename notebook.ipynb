{
 "cells": [
  {
   "cell_type": "markdown",
   "id": "7c880f6a",
   "metadata": {},
   "source": [
    "# PNEUMONIA INTERPRETATION PROJECT"
   ]
  },
  {
   "cell_type": "markdown",
   "id": "e678609e",
   "metadata": {},
   "source": [
    "## Overview\n",
    "Given imges of chest x-rays we will use Machine Learning techniques to determine if the patient has pneumonia"
   ]
  },
  {
   "cell_type": "markdown",
   "id": "f89865de",
   "metadata": {},
   "source": [
    "# Business Understanding"
   ]
  },
  {
   "cell_type": "markdown",
   "id": "aab4d30e",
   "metadata": {},
   "source": [
    "# Data Understanding\n",
    "\n",
    "The images were provided in two sets, those that have pneumonia and those that do not. To create traning, test, and validation sets we randomly assigned images to each group. 80 wer pt in trainig group, 20% in testing group.  The validation group was composed fo 20% of the images taken from the complete set of images "
   ]
  },
  {
   "cell_type": "markdown",
   "id": "1a8d5e37",
   "metadata": {},
   "source": []
  },
  {
   "cell_type": "code",
   "execution_count": 94,
   "id": "21fe4045",
   "metadata": {},
   "outputs": [],
   "source": [
    "#import PIL\n",
    "#import PIL.Image\n",
    "import tensorflow as tf\n",
    "from tensorflow import keras\n",
    "import tensorflow_datasets as tfds\n",
    "import numpy as np  \n",
    "import os\n",
    "import pathlib\n",
    "import matplotlib.pyplot as plt\n"
   ]
  },
  {
   "cell_type": "code",
   "execution_count": 95,
   "id": "4b69623b",
   "metadata": {},
   "outputs": [
    {
     "name": "stdout",
     "output_type": "stream",
     "text": [
      "2.17.0\n",
      "Num GPUs Available:  1\n"
     ]
    }
   ],
   "source": [
    "# Check GPU\n",
    "print(tf.__version__)\n",
    "print(\"Num GPUs Available: \", len(tf.config.list_physical_devices('GPU')))\n"
   ]
  },
  {
   "cell_type": "code",
   "execution_count": 108,
   "id": "ac10c491",
   "metadata": {},
   "outputs": [
    {
     "name": "stdout",
     "output_type": "stream",
     "text": [
      "4688\n",
      "Found 4688 files belonging to 2 classes.\n",
      "Found 1172 files belonging to 2 classes.\n",
      "Found 1168 files belonging to 2 classes.\n"
     ]
    }
   ],
   "source": [
    "# Resize the images in the given directory to a specified size.\n",
    "\n",
    "val_dir = pathlib.Path(\"zippedData/pneumonia/val\")\n",
    "train_dir = pathlib.Path(\"zippedData/pneumonia/train\")\n",
    "test_dir = pathlib.Path(\"zippedData/pneumonia/test\")\n",
    "\n",
    "image_count = len(list(train_dir.glob('*/*.jpeg')))\n",
    "print(image_count)\n",
    "\n",
    "batch_size = 16\n",
    "img_height = 112\n",
    "img_width = 112\n",
    "\n",
    "train_dataset = tf.keras.preprocessing.image_dataset_from_directory(\n",
    "    train_dir,\n",
    "    image_size=(img_height, img_width),\n",
    "    batch_size=batch_size)\n",
    "\n",
    "\n",
    "val_dataset = tf.keras.preprocessing.image_dataset_from_directory(\n",
    "    val_dir,\n",
    "    image_size=(img_height, img_width),\n",
    "    batch_size=batch_size)\n",
    "\n",
    "test_dataset = tf.keras.preprocessing.image_dataset_from_directory(\n",
    "    test_dir,\n",
    "    image_size=(img_height, img_width),\n",
    "    batch_size=batch_size)"
   ]
  },
  {
   "cell_type": "code",
   "execution_count": 109,
   "id": "12baa88d",
   "metadata": {},
   "outputs": [
    {
     "name": "stdout",
     "output_type": "stream",
     "text": [
      "(16, 112, 112, 3)\n",
      "(16,)\n"
     ]
    }
   ],
   "source": [
    "# Check image sizes\n",
    "for image_batch, labels_batch in train_dataset:\n",
    "    print(image_batch.shape)\n",
    "    print(labels_batch.shape)\n",
    "    break\n",
    "\n"
   ]
  },
  {
   "cell_type": "code",
   "execution_count": 110,
   "id": "7a6507ca",
   "metadata": {},
   "outputs": [
    {
     "name": "stdout",
     "output_type": "stream",
     "text": [
      "(16, 112, 112, 3)\n",
      "(16,)\n"
     ]
    }
   ],
   "source": [
    " # Check image sizes\n",
    "for image_batch, labels_batch in val_dataset:\n",
    "    print(image_batch.shape)\n",
    "    print(labels_batch.shape)\n",
    "    break\n",
    "\n"
   ]
  },
  {
   "cell_type": "code",
   "execution_count": 99,
   "id": "2a86db2a",
   "metadata": {},
   "outputs": [],
   "source": [
    "#train_dataset = train_dataset.prefetch(tf.data.AUTOTUNE)"
   ]
  },
  {
   "cell_type": "code",
   "execution_count": 100,
   "id": "c58e3aa2",
   "metadata": {},
   "outputs": [],
   "source": [
    "# normalize the values to be between 0 and 1\n",
    "normalization_layer = tf.keras.layers.Rescaling(1./255)\n",
    "\n",
    "normalized_ds = train_dataset.map(lambda x, y: (normalization_layer(x), y))\n",
    "image_batch, labels_batch = next(iter(normalized_ds))\n"
   ]
  },
  {
   "cell_type": "code",
   "execution_count": 101,
   "id": "b5bcf6f2",
   "metadata": {},
   "outputs": [],
   "source": [
    "# Train the model\n",
    "\n",
    "num_classes = 2\n",
    "\n",
    "model = tf.keras.Sequential([\n",
    "    tf.keras.layers.Rescaling(1./255),\n",
    "    tf.keras.layers.Conv2D(32, 3, activation='relu'),\n",
    "    tf.keras.layers.MaxPooling2D(),\n",
    "    tf.keras.layers.Conv2D(32, 3, activation='relu'),\n",
    "    tf.keras.layers.MaxPooling2D(),\n",
    "    tf.keras.layers.Conv2D(32, 3, activation='relu'),\n",
    "    tf.keras.layers.MaxPooling2D(),\n",
    "    tf.keras.layers.Flatten(),\n",
    "    tf.keras.layers.Dense(128, activation='relu'),\n",
    "    tf.keras.layers.Dense(num_classes)\n",
    "])"
   ]
  },
  {
   "cell_type": "code",
   "execution_count": 102,
   "id": "e321114a",
   "metadata": {},
   "outputs": [],
   "source": [
    "learning_rate = .001\n",
    "adam_optimizer_scheduled = keras.optimizers.Adam(learning_rate=learning_rate)\n",
    "model.compile(optimizer=adam_optimizer_scheduled,\n",
    "              loss=tf.keras.losses.SparseCategoricalCrossentropy(from_logits=True),\n",
    "              metrics=['accuracy'])"
   ]
  },
  {
   "cell_type": "code",
   "execution_count": 103,
   "id": "71c36992",
   "metadata": {},
   "outputs": [
    {
     "name": "stdout",
     "output_type": "stream",
     "text": [
      "Epoch 1/16\n",
      "\u001b[1m147/147\u001b[0m \u001b[32m━━━━━━━━━━━━━━━━━━━━\u001b[0m\u001b[37m\u001b[0m \u001b[1m14s\u001b[0m 81ms/step - accuracy: 0.7288 - loss: 0.6117 - val_accuracy: 0.7295 - val_loss: 3.3894\n",
      "Epoch 2/16\n",
      "\u001b[1m147/147\u001b[0m \u001b[32m━━━━━━━━━━━━━━━━━━━━\u001b[0m\u001b[37m\u001b[0m \u001b[1m11s\u001b[0m 72ms/step - accuracy: 0.7354 - loss: 0.5567 - val_accuracy: 0.8584 - val_loss: 53.8894\n",
      "Epoch 3/16\n",
      "\u001b[1m147/147\u001b[0m \u001b[32m━━━━━━━━━━━━━━━━━━━━\u001b[0m\u001b[37m\u001b[0m \u001b[1m11s\u001b[0m 72ms/step - accuracy: 0.9041 - loss: 0.2282 - val_accuracy: 0.9130 - val_loss: 34.4900\n",
      "Epoch 4/16\n",
      "\u001b[1m147/147\u001b[0m \u001b[32m━━━━━━━━━━━━━━━━━━━━\u001b[0m\u001b[37m\u001b[0m \u001b[1m20s\u001b[0m 72ms/step - accuracy: 0.9227 - loss: 0.2012 - val_accuracy: 0.9181 - val_loss: 33.9095\n",
      "Epoch 5/16\n",
      "\u001b[1m147/147\u001b[0m \u001b[32m━━━━━━━━━━━━━━━━━━━━\u001b[0m\u001b[37m\u001b[0m \u001b[1m11s\u001b[0m 71ms/step - accuracy: 0.9254 - loss: 0.2009 - val_accuracy: 0.9130 - val_loss: 37.5361\n",
      "Epoch 6/16\n",
      "\u001b[1m147/147\u001b[0m \u001b[32m━━━━━━━━━━━━━━━━━━━━\u001b[0m\u001b[37m\u001b[0m \u001b[1m11s\u001b[0m 72ms/step - accuracy: 0.9278 - loss: 0.1916 - val_accuracy: 0.9172 - val_loss: 37.3925\n",
      "Epoch 7/16\n",
      "\u001b[1m147/147\u001b[0m \u001b[32m━━━━━━━━━━━━━━━━━━━━\u001b[0m\u001b[37m\u001b[0m \u001b[1m10s\u001b[0m 71ms/step - accuracy: 0.9450 - loss: 0.1554 - val_accuracy: 0.8618 - val_loss: 91.4448\n",
      "Epoch 8/16\n",
      "\u001b[1m147/147\u001b[0m \u001b[32m━━━━━━━━━━━━━━━━━━━━\u001b[0m\u001b[37m\u001b[0m \u001b[1m10s\u001b[0m 71ms/step - accuracy: 0.9462 - loss: 0.1482 - val_accuracy: 0.8865 - val_loss: 61.1640\n",
      "Epoch 9/16\n",
      "\u001b[1m147/147\u001b[0m \u001b[32m━━━━━━━━━━━━━━━━━━━━\u001b[0m\u001b[37m\u001b[0m \u001b[1m11s\u001b[0m 71ms/step - accuracy: 0.9513 - loss: 0.1462 - val_accuracy: 0.9488 - val_loss: 22.6289\n",
      "Epoch 10/16\n",
      "\u001b[1m147/147\u001b[0m \u001b[32m━━━━━━━━━━━━━━━━━━━━\u001b[0m\u001b[37m\u001b[0m \u001b[1m10s\u001b[0m 71ms/step - accuracy: 0.9517 - loss: 0.1253 - val_accuracy: 0.9300 - val_loss: 24.3698\n",
      "Epoch 11/16\n",
      "\u001b[1m147/147\u001b[0m \u001b[32m━━━━━━━━━━━━━━━━━━━━\u001b[0m\u001b[37m\u001b[0m \u001b[1m10s\u001b[0m 71ms/step - accuracy: 0.9596 - loss: 0.1193 - val_accuracy: 0.8686 - val_loss: 55.9561\n",
      "Epoch 12/16\n",
      "\u001b[1m147/147\u001b[0m \u001b[32m━━━━━━━━━━━━━━━━━━━━\u001b[0m\u001b[37m\u001b[0m \u001b[1m20s\u001b[0m 70ms/step - accuracy: 0.9618 - loss: 0.1088 - val_accuracy: 0.9215 - val_loss: 31.6754\n",
      "Epoch 13/16\n",
      "\u001b[1m147/147\u001b[0m \u001b[32m━━━━━━━━━━━━━━━━━━━━\u001b[0m\u001b[37m\u001b[0m \u001b[1m11s\u001b[0m 75ms/step - accuracy: 0.9552 - loss: 0.1183 - val_accuracy: 0.9488 - val_loss: 21.3014\n",
      "Epoch 14/16\n",
      "\u001b[1m147/147\u001b[0m \u001b[32m━━━━━━━━━━━━━━━━━━━━\u001b[0m\u001b[37m\u001b[0m \u001b[1m20s\u001b[0m 70ms/step - accuracy: 0.9649 - loss: 0.0981 - val_accuracy: 0.9343 - val_loss: 23.3703\n",
      "Epoch 15/16\n",
      "\u001b[1m147/147\u001b[0m \u001b[32m━━━━━━━━━━━━━━━━━━━━\u001b[0m\u001b[37m\u001b[0m \u001b[1m20s\u001b[0m 70ms/step - accuracy: 0.9696 - loss: 0.0940 - val_accuracy: 0.9556 - val_loss: 21.2370\n",
      "Epoch 16/16\n",
      "\u001b[1m147/147\u001b[0m \u001b[32m━━━━━━━━━━━━━━━━━━━━\u001b[0m\u001b[37m\u001b[0m \u001b[1m10s\u001b[0m 69ms/step - accuracy: 0.9726 - loss: 0.0804 - val_accuracy: 0.9386 - val_loss: 42.6261\n"
     ]
    }
   ],
   "source": [
    "hist = model.fit(\n",
    "    normalized_ds,\n",
    "    validation_data=val_dataset,\n",
    "    epochs=16,\n",
    "    verbose=1\n",
    ")"
   ]
  },
  {
   "cell_type": "code",
   "execution_count": 104,
   "id": "18d525af",
   "metadata": {},
   "outputs": [
    {
     "name": "stdout",
     "output_type": "stream",
     "text": [
      "dict_keys(['accuracy', 'loss', 'val_accuracy', 'val_loss'])\n"
     ]
    }
   ],
   "source": [
    "hist_dict = hist.history\n",
    "print(hist_dict.keys())"
   ]
  },
  {
   "cell_type": "code",
   "execution_count": 105,
   "id": "e9a207ad",
   "metadata": {},
   "outputs": [
    {
     "data": {
      "text/plain": [
       "<Figure size 640x480 with 0 Axes>"
      ]
     },
     "execution_count": 105,
     "metadata": {},
     "output_type": "execute_result"
    },
    {
     "data": {
      "image/png": "[encoded data removed]",
      "text/plain": [
       "<Figure size 640x480 with 1 Axes>"
      ]
     },
     "metadata": {},
     "output_type": "display_data"
    },
    {
     "data": {
      "text/plain": [
       "<Figure size 640x480 with 0 Axes>"
      ]
     },
     "metadata": {},
     "output_type": "display_data"
    }
   ],
   "source": [
    "loss = hist_dict['loss']\n",
    "val_loss = hist_dict['val_loss']\n",
    "accuracy = hist_dict['accuracy']\n",
    "val_accuracy = hist_dict['val_accuracy']\n",
    "\n",
    "epochs = range(1, len(loss) + 1)\n",
    "plt.plot(epochs, loss, 'r', label='Training loss')\n",
    "plt.plot(epochs, val_loss, 'b', label='Validation loss')\n",
    "plt.title('Training and validation loss')\n",
    "plt.legend()\n",
    "plt.figure()"
   ]
  },
  {
   "cell_type": "code",
   "execution_count": 106,
   "id": "e99348d1",
   "metadata": {},
   "outputs": [
    {
     "data": {
      "image/png": "[encoded data removed]",
      "text/plain": [
       "<Figure size 640x480 with 1 Axes>"
      ]
     },
     "metadata": {},
     "output_type": "display_data"
    }
   ],
   "source": [
    "acc_val = hist.history['accuracy']\n",
    "val_acc = hist.history['val_accuracy']\n",
    "plt.plot(epochs, acc_val, 'r', label='Training accuracy')\n",
    "plt.plot(epochs, val_acc, 'b', label='Validation accuracy')\n",
    "plt.title('Training and validation accuracy')\n",
    "plt.legend()\n",
    "plt.show()  "
   ]
  },
  {
   "cell_type": "code",
   "execution_count": 107,
   "id": "1369e0f3",
   "metadata": {},
   "outputs": [
    {
     "name": "stdout",
     "output_type": "stream",
     "text": [
      "\u001b[1m37/37\u001b[0m \u001b[32m━━━━━━━━━━━━━━━━━━━━\u001b[0m\u001b[37m\u001b[0m \u001b[1m3s\u001b[0m 79ms/step - accuracy: 0.9265 - loss: 53.4381\n"
     ]
    }
   ],
   "source": [
    "# Show the model resuts on testing set\n",
    "    \n",
    "loss, accuracy = model.evaluate(test_dataset)"
   ]
  },
  {
   "cell_type": "markdown",
   "id": "7611f644",
   "metadata": {},
   "source": [
    "# Try ConvNeXt  Model\n"
   ]
  },
  {
   "cell_type": "code",
   "execution_count": 126,
   "id": "e9794ffd",
   "metadata": {},
   "outputs": [],
   "source": [
    "xt = tf.keras.applications.ConvNeXtTiny(\n",
    "\n",
    "    include_top=False,\n",
    "    weights=None,   \n",
    "    input_shape=(img_height, img_width, 3),\n",
    "    classes=num_classes,\n",
    "    classifier_activation='softmax' \n",
    ")\n"
   ]
  },
  {
   "cell_type": "code",
   "execution_count": 127,
   "id": "b66c679e",
   "metadata": {},
   "outputs": [],
   "source": [
    "\n",
    "inputs = tf.keras.Input(shape=(img_height, img_width, 3))  # Define the input shape\n",
    "x = tf.keras.layers.Rescaling(1./255)(inputs)\n",
    "x = xt(x)\n",
    "x = tf.keras.layers.GlobalAveragePooling2D()(x)\n",
    "outputs = tf.keras.layers.Dense(num_classes, activation='softmax')(x)\n",
    "model = tf.keras.Model(inputs, outputs)\n",
    "learning_rate = .01\n",
    "adam_optimizer_scheduled = keras.optimizers.Adam(learning_rate=learning_rate)\n",
    "model.compile(optimizer=adam_optimizer_scheduled,\n",
    "              loss=tf.keras.losses.SparseCategoricalCrossentropy(from_logits=False),\n",
    "              metrics=['accuracy'])\n"
   ]
  },
  {
   "cell_type": "code",
   "execution_count": 128,
   "id": "cebfb4b2",
   "metadata": {},
   "outputs": [],
   "source": [
    "epochs_feature_extraction = 10\n",
    "train_dataset = train_dataset.prefetch(tf.data.AUTOTUNE)\n",
    "val_dataset = val_dataset.prefetch(tf.data.AUTOTUNE)\n",
    "\n"
   ]
  },
  {
   "cell_type": "code",
   "execution_count": 129,
   "id": "d02424a3",
   "metadata": {},
   "outputs": [
    {
     "name": "stdout",
     "output_type": "stream",
     "text": [
      "(16, 112, 112, 3)\n",
      "(16,)\n",
      "(16, 112, 112, 3)\n",
      "(16,)\n"
     ]
    }
   ],
   "source": [
    "# Check image sizes\n",
    "for image_batch, labels_batch in train_dataset:\n",
    "    print(image_batch.shape)\n",
    "    print(labels_batch.shape)\n",
    "    break\n",
    "\n",
    "for image_batch, labels_batch in val_dataset:\n",
    "    print(image_batch.shape)\n",
    "    print(labels_batch.shape)\n",
    "    break\n"
   ]
  },
  {
   "cell_type": "code",
   "execution_count": 130,
   "id": "1bcf782c",
   "metadata": {},
   "outputs": [
    {
     "name": "stdout",
     "output_type": "stream",
     "text": [
      "\n",
      "--- Training for 10 epochs (Feature Extraction Phase) ---\n",
      "Epoch 1/10\n",
      "\u001b[1m293/293\u001b[0m \u001b[32m━━━━━━━━━━━━━━━━━━━━\u001b[0m\u001b[37m\u001b[0m \u001b[1m46s\u001b[0m 67ms/step - accuracy: 0.6453 - loss: 1.8493 - val_accuracy: 0.7295 - val_loss: 0.5838\n",
      "Epoch 2/10\n",
      "\u001b[1m293/293\u001b[0m \u001b[32m━━━━━━━━━━━━━━━━━━━━\u001b[0m\u001b[37m\u001b[0m \u001b[1m17s\u001b[0m 58ms/step - accuracy: 0.7275 - loss: 0.5892 - val_accuracy: 0.7295 - val_loss: 0.5837\n",
      "Epoch 3/10\n",
      "\u001b[1m293/293\u001b[0m \u001b[32m━━━━━━━━━━━━━━━━━━━━\u001b[0m\u001b[37m\u001b[0m \u001b[1m17s\u001b[0m 58ms/step - accuracy: 0.7333 - loss: 0.5820 - val_accuracy: 0.7295 - val_loss: 0.5873\n",
      "Epoch 4/10\n",
      "\u001b[1m293/293\u001b[0m \u001b[32m━━━━━━━━━━━━━━━━━━━━\u001b[0m\u001b[37m\u001b[0m \u001b[1m17s\u001b[0m 58ms/step - accuracy: 0.7358 - loss: 0.5793 - val_accuracy: 0.7295 - val_loss: 0.5841\n",
      "Epoch 5/10\n",
      "\u001b[1m293/293\u001b[0m \u001b[32m━━━━━━━━━━━━━━━━━━━━\u001b[0m\u001b[37m\u001b[0m \u001b[1m17s\u001b[0m 58ms/step - accuracy: 0.7298 - loss: 0.5860 - val_accuracy: 0.7295 - val_loss: 0.5840\n",
      "Epoch 6/10\n",
      "\u001b[1m293/293\u001b[0m \u001b[32m━━━━━━━━━━━━━━━━━━━━\u001b[0m\u001b[37m\u001b[0m \u001b[1m17s\u001b[0m 58ms/step - accuracy: 0.7313 - loss: 0.5839 - val_accuracy: 0.7295 - val_loss: 0.5838\n",
      "Epoch 7/10\n",
      "\u001b[1m293/293\u001b[0m \u001b[32m━━━━━━━━━━━━━━━━━━━━\u001b[0m\u001b[37m\u001b[0m \u001b[1m17s\u001b[0m 58ms/step - accuracy: 0.7306 - loss: 0.5856 - val_accuracy: 0.7295 - val_loss: 0.5838\n",
      "Epoch 8/10\n",
      "\u001b[1m293/293\u001b[0m \u001b[32m━━━━━━━━━━━━━━━━━━━━\u001b[0m\u001b[37m\u001b[0m \u001b[1m17s\u001b[0m 58ms/step - accuracy: 0.7302 - loss: 0.5846 - val_accuracy: 0.7295 - val_loss: 0.5839\n",
      "Epoch 9/10\n",
      "\u001b[1m293/293\u001b[0m \u001b[32m━━━━━━━━━━━━━━━━━━━━\u001b[0m\u001b[37m\u001b[0m \u001b[1m22s\u001b[0m 63ms/step - accuracy: 0.7292 - loss: 0.5847 - val_accuracy: 0.7295 - val_loss: 0.5843\n",
      "Epoch 10/10\n",
      "\u001b[1m293/293\u001b[0m \u001b[32m━━━━━━━━━━━━━━━━━━━━\u001b[0m\u001b[37m\u001b[0m \u001b[1m20s\u001b[0m 60ms/step - accuracy: 0.7284 - loss: 0.5856 - val_accuracy: 0.7295 - val_loss: 0.5841\n"
     ]
    }
   ],
   "source": [
    "print(f\"\\n--- Training for {epochs_feature_extraction} epochs (Feature Extraction Phase) ---\")\n",
    "history_feature_extraction = model.fit(train_dataset,\n",
    "                                       epochs=epochs_feature_extraction,\n",
    "                                       validation_data=val_dataset)"
   ]
  },
  {
   "cell_type": "code",
   "execution_count": 131,
   "id": "09557d53",
   "metadata": {},
   "outputs": [
    {
     "name": "stdout",
     "output_type": "stream",
     "text": [
      "\u001b[1m73/73\u001b[0m \u001b[32m━━━━━━━━━━━━━━━━━━━━\u001b[0m\u001b[37m\u001b[0m \u001b[1m2s\u001b[0m 29ms/step - accuracy: 0.7250 - loss: 0.5888\n"
     ]
    }
   ],
   "source": [
    "loss, accuracy = model.evaluate(test_dataset)"
   ]
  },
  {
   "cell_type": "code",
   "execution_count": null,
   "id": "9726eb1f",
   "metadata": {},
   "outputs": [],
   "source": []
  }
 ],
 "metadata": {
  "kernelspec": {
   "display_name": "tf_env",
   "language": "python",
   "name": "python3"
  },
  "language_info": {
   "codemirror_mode": {
    "name": "ipython",
    "version": 3
   },
   "file_extension": ".py",
   "mimetype": "text/x-python",
   "name": "python",
   "nbconvert_exporter": "python",
   "pygments_lexer": "ipython3",
   "version": "3.10.18"
  }
 },
 "nbformat": 4,
 "nbformat_minor": 5
}
